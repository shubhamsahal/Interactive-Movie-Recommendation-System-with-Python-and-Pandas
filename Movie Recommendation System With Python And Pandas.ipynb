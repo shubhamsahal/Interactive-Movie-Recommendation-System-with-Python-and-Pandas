{
 "cells": [
  {
   "cell_type": "code",
   "execution_count": 1,
   "id": "5bc7d91d-e671-42be-9dff-62e29374fa59",
   "metadata": {},
   "outputs": [],
   "source": [
    "import pandas as pd\n",
    "\n",
    "movies = pd.read_csv(\"E:\\Python Project\\Movie Recommendation System With Python And Pandas Data Project\\movie\\movies.csv\")"
   ]
  },
  {
   "cell_type": "code",
   "execution_count": 2,
   "id": "d7f40ec3-a3a9-46e6-b77a-473f0f10580b",
   "metadata": {},
   "outputs": [
    {
     "data": {
      "text/html": [
       "<div>\n",
       "<style scoped>\n",
       "    .dataframe tbody tr th:only-of-type {\n",
       "        vertical-align: middle;\n",
       "    }\n",
       "\n",
       "    .dataframe tbody tr th {\n",
       "        vertical-align: top;\n",
       "    }\n",
       "\n",
       "    .dataframe thead th {\n",
       "        text-align: right;\n",
       "    }\n",
       "</style>\n",
       "<table border=\"1\" class=\"dataframe\">\n",
       "  <thead>\n",
       "    <tr style=\"text-align: right;\">\n",
       "      <th></th>\n",
       "      <th>movieId</th>\n",
       "      <th>title</th>\n",
       "      <th>genres</th>\n",
       "    </tr>\n",
       "  </thead>\n",
       "  <tbody>\n",
       "    <tr>\n",
       "      <th>0</th>\n",
       "      <td>1</td>\n",
       "      <td>Toy Story (1995)</td>\n",
       "      <td>Adventure|Animation|Children|Comedy|Fantasy</td>\n",
       "    </tr>\n",
       "    <tr>\n",
       "      <th>1</th>\n",
       "      <td>2</td>\n",
       "      <td>Jumanji (1995)</td>\n",
       "      <td>Adventure|Children|Fantasy</td>\n",
       "    </tr>\n",
       "    <tr>\n",
       "      <th>2</th>\n",
       "      <td>3</td>\n",
       "      <td>Grumpier Old Men (1995)</td>\n",
       "      <td>Comedy|Romance</td>\n",
       "    </tr>\n",
       "    <tr>\n",
       "      <th>3</th>\n",
       "      <td>4</td>\n",
       "      <td>Waiting to Exhale (1995)</td>\n",
       "      <td>Comedy|Drama|Romance</td>\n",
       "    </tr>\n",
       "    <tr>\n",
       "      <th>4</th>\n",
       "      <td>5</td>\n",
       "      <td>Father of the Bride Part II (1995)</td>\n",
       "      <td>Comedy</td>\n",
       "    </tr>\n",
       "    <tr>\n",
       "      <th>...</th>\n",
       "      <td>...</td>\n",
       "      <td>...</td>\n",
       "      <td>...</td>\n",
       "    </tr>\n",
       "    <tr>\n",
       "      <th>62418</th>\n",
       "      <td>209157</td>\n",
       "      <td>We (2018)</td>\n",
       "      <td>Drama</td>\n",
       "    </tr>\n",
       "    <tr>\n",
       "      <th>62419</th>\n",
       "      <td>209159</td>\n",
       "      <td>Window of the Soul (2001)</td>\n",
       "      <td>Documentary</td>\n",
       "    </tr>\n",
       "    <tr>\n",
       "      <th>62420</th>\n",
       "      <td>209163</td>\n",
       "      <td>Bad Poems (2018)</td>\n",
       "      <td>Comedy|Drama</td>\n",
       "    </tr>\n",
       "    <tr>\n",
       "      <th>62421</th>\n",
       "      <td>209169</td>\n",
       "      <td>A Girl Thing (2001)</td>\n",
       "      <td>(no genres listed)</td>\n",
       "    </tr>\n",
       "    <tr>\n",
       "      <th>62422</th>\n",
       "      <td>209171</td>\n",
       "      <td>Women of Devil's Island (1962)</td>\n",
       "      <td>Action|Adventure|Drama</td>\n",
       "    </tr>\n",
       "  </tbody>\n",
       "</table>\n",
       "<p>62423 rows × 3 columns</p>\n",
       "</div>"
      ],
      "text/plain": [
       "       movieId                               title  \\\n",
       "0            1                    Toy Story (1995)   \n",
       "1            2                      Jumanji (1995)   \n",
       "2            3             Grumpier Old Men (1995)   \n",
       "3            4            Waiting to Exhale (1995)   \n",
       "4            5  Father of the Bride Part II (1995)   \n",
       "...        ...                                 ...   \n",
       "62418   209157                           We (2018)   \n",
       "62419   209159           Window of the Soul (2001)   \n",
       "62420   209163                    Bad Poems (2018)   \n",
       "62421   209169                 A Girl Thing (2001)   \n",
       "62422   209171      Women of Devil's Island (1962)   \n",
       "\n",
       "                                            genres  \n",
       "0      Adventure|Animation|Children|Comedy|Fantasy  \n",
       "1                       Adventure|Children|Fantasy  \n",
       "2                                   Comedy|Romance  \n",
       "3                             Comedy|Drama|Romance  \n",
       "4                                           Comedy  \n",
       "...                                            ...  \n",
       "62418                                        Drama  \n",
       "62419                                  Documentary  \n",
       "62420                                 Comedy|Drama  \n",
       "62421                           (no genres listed)  \n",
       "62422                       Action|Adventure|Drama  \n",
       "\n",
       "[62423 rows x 3 columns]"
      ]
     },
     "execution_count": 2,
     "metadata": {},
     "output_type": "execute_result"
    }
   ],
   "source": [
    "movies"
   ]
  },
  {
   "cell_type": "markdown",
   "id": "73131f42-d5f7-430a-9278-868b5942753d",
   "metadata": {},
   "source": [
    "# Cleaning Movie Titles With Regex"
   ]
  },
  {
   "cell_type": "code",
   "execution_count": 3,
   "id": "4003e832-ecf7-4be0-a14d-132bdf5341ac",
   "metadata": {},
   "outputs": [],
   "source": [
    "import re\n",
    "\n",
    "def clean_title(title):\n",
    "    return re.sub(\"[^a-zA0-9 ]\", \"\",title)\n",
    "    "
   ]
  },
  {
   "cell_type": "code",
   "execution_count": 4,
   "id": "9fb1303e-bc87-49b1-b38f-d0eda8415884",
   "metadata": {},
   "outputs": [],
   "source": [
    "movies[\"clean_title\"] = movies[\"title\"].apply(clean_title)"
   ]
  },
  {
   "cell_type": "code",
   "execution_count": 5,
   "id": "83ee722c-91ab-421e-b2fd-22087f9d40a3",
   "metadata": {},
   "outputs": [
    {
     "data": {
      "text/html": [
       "<div>\n",
       "<style scoped>\n",
       "    .dataframe tbody tr th:only-of-type {\n",
       "        vertical-align: middle;\n",
       "    }\n",
       "\n",
       "    .dataframe tbody tr th {\n",
       "        vertical-align: top;\n",
       "    }\n",
       "\n",
       "    .dataframe thead th {\n",
       "        text-align: right;\n",
       "    }\n",
       "</style>\n",
       "<table border=\"1\" class=\"dataframe\">\n",
       "  <thead>\n",
       "    <tr style=\"text-align: right;\">\n",
       "      <th></th>\n",
       "      <th>movieId</th>\n",
       "      <th>title</th>\n",
       "      <th>genres</th>\n",
       "      <th>clean_title</th>\n",
       "    </tr>\n",
       "  </thead>\n",
       "  <tbody>\n",
       "    <tr>\n",
       "      <th>0</th>\n",
       "      <td>1</td>\n",
       "      <td>Toy Story (1995)</td>\n",
       "      <td>Adventure|Animation|Children|Comedy|Fantasy</td>\n",
       "      <td>oy tory 1995</td>\n",
       "    </tr>\n",
       "    <tr>\n",
       "      <th>1</th>\n",
       "      <td>2</td>\n",
       "      <td>Jumanji (1995)</td>\n",
       "      <td>Adventure|Children|Fantasy</td>\n",
       "      <td>umanji 1995</td>\n",
       "    </tr>\n",
       "    <tr>\n",
       "      <th>2</th>\n",
       "      <td>3</td>\n",
       "      <td>Grumpier Old Men (1995)</td>\n",
       "      <td>Comedy|Romance</td>\n",
       "      <td>rumpier ld en 1995</td>\n",
       "    </tr>\n",
       "    <tr>\n",
       "      <th>3</th>\n",
       "      <td>4</td>\n",
       "      <td>Waiting to Exhale (1995)</td>\n",
       "      <td>Comedy|Drama|Romance</td>\n",
       "      <td>aiting to xhale 1995</td>\n",
       "    </tr>\n",
       "    <tr>\n",
       "      <th>4</th>\n",
       "      <td>5</td>\n",
       "      <td>Father of the Bride Part II (1995)</td>\n",
       "      <td>Comedy</td>\n",
       "      <td>ather of the ride art  1995</td>\n",
       "    </tr>\n",
       "    <tr>\n",
       "      <th>...</th>\n",
       "      <td>...</td>\n",
       "      <td>...</td>\n",
       "      <td>...</td>\n",
       "      <td>...</td>\n",
       "    </tr>\n",
       "    <tr>\n",
       "      <th>62418</th>\n",
       "      <td>209157</td>\n",
       "      <td>We (2018)</td>\n",
       "      <td>Drama</td>\n",
       "      <td>e 2018</td>\n",
       "    </tr>\n",
       "    <tr>\n",
       "      <th>62419</th>\n",
       "      <td>209159</td>\n",
       "      <td>Window of the Soul (2001)</td>\n",
       "      <td>Documentary</td>\n",
       "      <td>indow of the oul 2001</td>\n",
       "    </tr>\n",
       "    <tr>\n",
       "      <th>62420</th>\n",
       "      <td>209163</td>\n",
       "      <td>Bad Poems (2018)</td>\n",
       "      <td>Comedy|Drama</td>\n",
       "      <td>ad oems 2018</td>\n",
       "    </tr>\n",
       "    <tr>\n",
       "      <th>62421</th>\n",
       "      <td>209169</td>\n",
       "      <td>A Girl Thing (2001)</td>\n",
       "      <td>(no genres listed)</td>\n",
       "      <td>A irl hing 2001</td>\n",
       "    </tr>\n",
       "    <tr>\n",
       "      <th>62422</th>\n",
       "      <td>209171</td>\n",
       "      <td>Women of Devil's Island (1962)</td>\n",
       "      <td>Action|Adventure|Drama</td>\n",
       "      <td>omen of evils sland 1962</td>\n",
       "    </tr>\n",
       "  </tbody>\n",
       "</table>\n",
       "<p>62423 rows × 4 columns</p>\n",
       "</div>"
      ],
      "text/plain": [
       "       movieId                               title  \\\n",
       "0            1                    Toy Story (1995)   \n",
       "1            2                      Jumanji (1995)   \n",
       "2            3             Grumpier Old Men (1995)   \n",
       "3            4            Waiting to Exhale (1995)   \n",
       "4            5  Father of the Bride Part II (1995)   \n",
       "...        ...                                 ...   \n",
       "62418   209157                           We (2018)   \n",
       "62419   209159           Window of the Soul (2001)   \n",
       "62420   209163                    Bad Poems (2018)   \n",
       "62421   209169                 A Girl Thing (2001)   \n",
       "62422   209171      Women of Devil's Island (1962)   \n",
       "\n",
       "                                            genres  \\\n",
       "0      Adventure|Animation|Children|Comedy|Fantasy   \n",
       "1                       Adventure|Children|Fantasy   \n",
       "2                                   Comedy|Romance   \n",
       "3                             Comedy|Drama|Romance   \n",
       "4                                           Comedy   \n",
       "...                                            ...   \n",
       "62418                                        Drama   \n",
       "62419                                  Documentary   \n",
       "62420                                 Comedy|Drama   \n",
       "62421                           (no genres listed)   \n",
       "62422                       Action|Adventure|Drama   \n",
       "\n",
       "                       clean_title  \n",
       "0                     oy tory 1995  \n",
       "1                      umanji 1995  \n",
       "2               rumpier ld en 1995  \n",
       "3             aiting to xhale 1995  \n",
       "4      ather of the ride art  1995  \n",
       "...                            ...  \n",
       "62418                       e 2018  \n",
       "62419        indow of the oul 2001  \n",
       "62420                 ad oems 2018  \n",
       "62421              A irl hing 2001  \n",
       "62422     omen of evils sland 1962  \n",
       "\n",
       "[62423 rows x 4 columns]"
      ]
     },
     "execution_count": 5,
     "metadata": {},
     "output_type": "execute_result"
    }
   ],
   "source": [
    "movies"
   ]
  },
  {
   "cell_type": "markdown",
   "id": "55bc011f-4f78-48b1-a53e-eb5afd998e24",
   "metadata": {},
   "source": [
    "# Creating a TFIDF Matrix"
   ]
  },
  {
   "cell_type": "code",
   "execution_count": 6,
   "id": "ac8e6e57-65cb-4fdc-a9f3-88b5436658c2",
   "metadata": {},
   "outputs": [],
   "source": [
    "from sklearn.feature_extraction.text import TfidfVectorizer\n",
    "\n",
    "vectorizer = TfidfVectorizer(ngram_range=(1,2))\n",
    "\n",
    "tfidf = vectorizer.fit_transform(movies[\"clean_title\"])"
   ]
  },
  {
   "cell_type": "markdown",
   "id": "b86186bb-61f7-4c48-a826-8877d0d6f70a",
   "metadata": {},
   "source": [
    "# Creating a Search Function"
   ]
  },
  {
   "cell_type": "code",
   "execution_count": 7,
   "id": "3490b7bb-c41c-4a12-a9fe-0c90b5ad5fba",
   "metadata": {},
   "outputs": [],
   "source": [
    "from sklearn.metrics.pairwise import cosine_similarity\n",
    "import numpy as np\n",
    "\n",
    "def search(title):\n",
    "   # title = \"Toy Story 1995\"\n",
    "    title = clean_title(title)\n",
    "    query_vec = vectorizer.transform([title])\n",
    "    similarity = cosine_similarity(query_vec, tfidf). flatten()\n",
    "    indices = np.argpartition(similarity, -5)[-5:]\n",
    "    result = movies.iloc[indices][::-1]\n",
    "    return result"
   ]
  },
  {
   "cell_type": "markdown",
   "id": "75eda470-dc68-4c7b-a139-4414ea2db46b",
   "metadata": {},
   "source": [
    "# Building an Interactive Search box with Jupyter "
   ]
  },
  {
   "cell_type": "code",
   "execution_count": 8,
   "id": "bf5918d5-a6b3-4248-98f1-330d9e975f91",
   "metadata": {},
   "outputs": [
    {
     "data": {
      "application/vnd.jupyter.widget-view+json": {
       "model_id": "05dc55dd461b48b0b20cf6534c551a79",
       "version_major": 2,
       "version_minor": 0
      },
      "text/plain": [
       "Text(value='Toy Story', description='Movie Title:')"
      ]
     },
     "metadata": {},
     "output_type": "display_data"
    },
    {
     "data": {
      "application/vnd.jupyter.widget-view+json": {
       "model_id": "a879f5350eaf4daa9cefa6ea2615f559",
       "version_major": 2,
       "version_minor": 0
      },
      "text/plain": [
       "Output()"
      ]
     },
     "metadata": {},
     "output_type": "display_data"
    }
   ],
   "source": [
    "import ipywidgets as widgets\n",
    "from IPython.display import display\n",
    "\n",
    "movie_input = widgets.Text(\n",
    "    value='Toy Story',\n",
    "    description='Movie Title:',\n",
    "    disabled=False\n",
    ")\n",
    "movie_list = widgets.Output()\n",
    "\n",
    "def on_type(data):\n",
    "    with movie_list:\n",
    "        movie_list.clear_output()\n",
    "        title = data['new']\n",
    "        if len(title) > 5:\n",
    "            display(search(title))\n",
    "\n",
    "movie_input.observe(on_type, names='value')\n",
    "\n",
    "display(movie_input,movie_list)"
   ]
  },
  {
   "cell_type": "markdown",
   "id": "ad5e67b7-d356-4ab9-ab84-f314c6a12337",
   "metadata": {},
   "source": [
    "# Reading In Movie Ratings Data"
   ]
  },
  {
   "cell_type": "code",
   "execution_count": null,
   "id": "e7b489a9-bf6d-4ab1-9a5a-cb203b5e70fa",
   "metadata": {},
   "outputs": [],
   "source": [
    "import pandas as pd\n",
    "ratings = pd.read_csv(\"E:\\\\Python Project\\\\Movie Recommendation System With Python And Pandas Data Project\\\\movie\\\\ratings.csv\")"
   ]
  },
  {
   "cell_type": "code",
   "execution_count": null,
   "id": "f51710db-6961-48e4-8169-3f060c6a47a6",
   "metadata": {},
   "outputs": [],
   "source": [
    "ratings"
   ]
  },
  {
   "cell_type": "code",
   "execution_count": null,
   "id": "27af58aa-9048-4427-b18a-9692e1e12ec7",
   "metadata": {},
   "outputs": [],
   "source": [
    "ratings.head(11)     # top 10 ratings movies"
   ]
  },
  {
   "cell_type": "code",
   "execution_count": null,
   "id": "b232fda1-b283-4921-98ca-34d8ff13f340",
   "metadata": {},
   "outputs": [],
   "source": [
    "ratings.dtypes"
   ]
  },
  {
   "cell_type": "markdown",
   "id": "905d16a7-6cc7-4b82-b3d9-a0dbf933ac9c",
   "metadata": {},
   "source": [
    "# Finding Users who Liked the same movie"
   ]
  },
  {
   "cell_type": "code",
   "execution_count": null,
   "id": "5f8e0576-a345-49f2-8d8a-231eb14c8889",
   "metadata": {},
   "outputs": [],
   "source": [
    "movie_id = 1"
   ]
  },
  {
   "cell_type": "code",
   "execution_count": null,
   "id": "028d8361-2e0c-44c1-8d3d-d3314e75607b",
   "metadata": {},
   "outputs": [],
   "source": [
    "similar_users = ratings[(ratings[\"movieId\"] == movie_id) & (ratings[\"rating\"] > 4)][\"userId\"].unique()"
   ]
  },
  {
   "cell_type": "code",
   "execution_count": null,
   "id": "f6f0a011-0ad8-40c4-bb3f-ee94fc9fcc9b",
   "metadata": {},
   "outputs": [],
   "source": [
    "similar_users "
   ]
  },
  {
   "cell_type": "code",
   "execution_count": null,
   "id": "12607412-f8e7-44b4-95fd-50c0e30327ed",
   "metadata": {},
   "outputs": [],
   "source": [
    "similar_users_recs = ratings[(ratings[\"userId\"].isin(similar_users)) & (ratings[\"rating\"] >4)]"
   ]
  },
  {
   "cell_type": "code",
   "execution_count": null,
   "id": "02f81484-8508-4259-9f7f-e2bae33c99f8",
   "metadata": {},
   "outputs": [],
   "source": [
    "similar_users_recs"
   ]
  },
  {
   "cell_type": "code",
   "execution_count": null,
   "id": "1e79be74-477e-438c-9d36-1016aee0442a",
   "metadata": {},
   "outputs": [],
   "source": [
    "similar_users_recs = ratings[(ratings[\"userId\"].isin(similar_users)) & (ratings[\"rating\"] >4)] [\"movieId\"]"
   ]
  },
  {
   "cell_type": "code",
   "execution_count": null,
   "id": "aec24bff-839c-47e2-a8cb-ee64eb13776e",
   "metadata": {},
   "outputs": [],
   "source": [
    "similar_users_recs"
   ]
  },
  {
   "cell_type": "code",
   "execution_count": null,
   "id": "907466d3-474b-4624-a235-7b1e621ba31a",
   "metadata": {},
   "outputs": [],
   "source": [
    "similar_users_recs = similar_users_recs.value_counts() / len(similar_users)\n",
    "\n",
    "similar_user_recs = similar_users_recs[similar_users_recs >.1]"
   ]
  },
  {
   "cell_type": "code",
   "execution_count": null,
   "id": "8c9a6c14-43ca-4a4d-8635-449552bd6e5d",
   "metadata": {},
   "outputs": [],
   "source": [
    "similar_users_recs"
   ]
  },
  {
   "cell_type": "markdown",
   "id": "0f9d8981-d612-497e-89a4-e55d365620da",
   "metadata": {},
   "source": [
    "# Finding How Much All user like Movies"
   ]
  },
  {
   "cell_type": "code",
   "execution_count": null,
   "id": "2edbc39f-606e-4d7a-bb6c-ad5b33996c24",
   "metadata": {},
   "outputs": [],
   "source": [
    "all_users = ratings[(ratings[\"movieId\"].isin(similar_users_recs.index)) & (ratings[\"rating\"] > 4 )]"
   ]
  },
  {
   "cell_type": "code",
   "execution_count": null,
   "id": "263dbed6-8a4f-4e4c-90b2-6aaeba4e9b87",
   "metadata": {},
   "outputs": [],
   "source": [
    "all_users_recs = all_users[\"movieId\"].value_counts() / len(all_users[\"userId\"].unique())"
   ]
  },
  {
   "cell_type": "code",
   "execution_count": null,
   "id": "49e79c8c-556a-4437-ab4e-a1682b22bcb8",
   "metadata": {},
   "outputs": [],
   "source": [
    "all_users_recs"
   ]
  },
  {
   "cell_type": "markdown",
   "id": "9cfd8698-cef3-4f7a-822f-e1b933ac9341",
   "metadata": {},
   "source": [
    "# Recommendation Score"
   ]
  },
  {
   "cell_type": "code",
   "execution_count": null,
   "id": "09587654-6ec7-438a-9804-6829e0c59d20",
   "metadata": {},
   "outputs": [],
   "source": [
    "rec_percentages = pd.concat([similar_users_recs, all_users_recs], axis=1)\n",
    "rec_percentages.columns = [\"similar\",\"all\"]"
   ]
  },
  {
   "cell_type": "code",
   "execution_count": null,
   "id": "17fdbf55-00f9-4615-a0ce-a7cdb95c1069",
   "metadata": {},
   "outputs": [],
   "source": [
    "rec_percentages"
   ]
  },
  {
   "cell_type": "code",
   "execution_count": null,
   "id": "3898adf9-f1cb-4f8f-94be-a87bc29f1a77",
   "metadata": {},
   "outputs": [],
   "source": [
    "rec_percentages[\"score\"] = rec_percentages[\"similar\"] / rec_percentages[\"all\"]"
   ]
  },
  {
   "cell_type": "code",
   "execution_count": null,
   "id": "d1aaa01c-cfdb-4f84-a31f-c9080b27d0cf",
   "metadata": {},
   "outputs": [],
   "source": [
    "rec_percentages =  rec_percentages.sort_values(\"score\", ascending =False)"
   ]
  },
  {
   "cell_type": "code",
   "execution_count": null,
   "id": "15f778f3-9486-41af-9f09-252d2bbc0929",
   "metadata": {},
   "outputs": [],
   "source": [
    "rec_percentages"
   ]
  },
  {
   "cell_type": "code",
   "execution_count": null,
   "id": "8c6f32aa-2f9f-4755-8620-08e1dfd0eafb",
   "metadata": {},
   "outputs": [],
   "source": [
    "rec_percentages.head(11).merge(movies, left_index=True, right_on=\"movieId\")"
   ]
  },
  {
   "cell_type": "markdown",
   "id": "fe5cc04a-09d6-4bb4-9f32-c6a7dc6a22ff",
   "metadata": {},
   "source": [
    " # Build Recommendation Function"
   ]
  },
  {
   "cell_type": "code",
   "execution_count": null,
   "id": "8c6e3aaa-8a07-41cd-967d-3d4624c70654",
   "metadata": {},
   "outputs": [],
   "source": [
    "def find_similar_movies(movie_id):\n",
    "    similar_users = ratings[(ratings[\"movieId\"] == movie_id) & (ratings[\"rating\"] > 4)][\"userId\"].unique()\n",
    "    similar_user_recs = ratings[(ratings[\"userId\"].isin(similar_users)) & (ratings[\"rating\"] > 4)][\"movieId\"]\n",
    "    \n",
    "    similar_user_recs = similar_user_recs.value_counts() / len(similar_users)\n",
    "    similar_user_recs = similar_user_recs[similar_user_recs > 0.10]\n",
    "    \n",
    "    all_users = ratings[(ratings[\"movieId\"].isin(similar_user_recs.index)) & (ratings[\"rating\"] > 4)]\n",
    "    all_users_recs = all_users[\"movieId\"].value_counts() / len(all_users[\"userId\"].unique())\n",
    "    \n",
    "    rec_percentages = pd.concat([similar_user_recs, all_users_recs], axis=1)\n",
    "    rec_percentages.columns = [\"similar\", \"all\"]\n",
    "    \n",
    "    rec_percentages[\"score\"] = rec_percentages[\"similar\"] / len(rec_percentages[\"all\"])\n",
    "    \n",
    "    rec_percentages = rec_percentages.sort_values(\"score\", ascending=False)\n",
    "    return rec_percentages.head(11).merge(movies, left_index=True, right_on=\"movieId\")[[\"score\", \"title\", \"genres\"]]\n"
   ]
  },
  {
   "cell_type": "markdown",
   "id": "7b65bbee-97fc-468e-b4cf-5e851ab4cc03",
   "metadata": {},
   "source": [
    "# Interaction Recommendation  Widget"
   ]
  },
  {
   "cell_type": "code",
   "execution_count": null,
   "id": "8b1079e9-2896-46dc-83fc-a6b259180548",
   "metadata": {},
   "outputs": [],
   "source": [
    "movie_name_input = widgets.Text(\n",
    "    value=\"Toy Story\",\n",
    "    description=\"Movie Title:\",\n",
    "    disabled=False,\n",
    "\n",
    ")\n",
    "\n",
    "recommendation_list = widgets.Output()\n",
    "\n",
    "def on_type(data):\n",
    "    with recommendation_list:\n",
    "        recommendation_list.clear_output()\n",
    "        title = data [\"new\"]\n",
    "        if len(title) > 5:\n",
    "            results = search(title)\n",
    "            movie_id = results.iloc[0][\"movieId\"]\n",
    "            display(find_similar_movies(movie_id))\n",
    "\n",
    "movie_name_input.observe(on_type , names=\"value\")\n",
    "\n",
    "((display(movie_name_input , recommendation_list)))"
   ]
  },
  {
   "cell_type": "code",
   "execution_count": null,
   "id": "e230de81-92be-4c82-9ea3-7a27326b9c1f",
   "metadata": {},
   "outputs": [],
   "source": []
  }
 ],
 "metadata": {
  "kernelspec": {
   "display_name": "Python 3 (ipykernel)",
   "language": "python",
   "name": "python3"
  },
  "language_info": {
   "codemirror_mode": {
    "name": "ipython",
    "version": 3
   },
   "file_extension": ".py",
   "mimetype": "text/x-python",
   "name": "python",
   "nbconvert_exporter": "python",
   "pygments_lexer": "ipython3",
   "version": "3.11.5"
  }
 },
 "nbformat": 4,
 "nbformat_minor": 5
}
